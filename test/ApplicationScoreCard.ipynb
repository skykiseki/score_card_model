{
 "cells": [
  {
   "cell_type": "markdown",
   "metadata": {
    "papermill": {
     "duration": 0.046692,
     "end_time": "2020-11-16T18:29:55.849244",
     "exception": false,
     "start_time": "2020-11-16T18:29:55.802552",
     "status": "completed"
    },
    "tags": []
   },
   "source": [
    "# 加载模块"
   ]
  },
  {
   "cell_type": "code",
   "execution_count": 32,
   "metadata": {},
   "outputs": [],
   "source": [
    "import sys\n",
    "sys.path.append('/score_card_model/score_card_model/')"
   ]
  },
  {
   "cell_type": "code",
   "execution_count": 33,
   "metadata": {
    "ExecuteTime": {
     "end_time": "2019-10-25T08:58:20.330008Z",
     "start_time": "2019-10-25T08:58:18.996885Z"
    },
    "execution": {
     "iopub.execute_input": "2020-11-26T17:40:10.143519Z",
     "iopub.status.busy": "2020-11-26T17:40:10.143140Z",
     "iopub.status.idle": "2020-11-26T17:40:14.305684Z",
     "shell.execute_reply": "2020-11-26T17:40:14.304999Z",
     "shell.execute_reply.started": "2020-11-26T17:40:10.143468Z"
    },
    "papermill": {
     "duration": 1.576784,
     "end_time": "2020-11-16T18:29:57.472905",
     "exception": false,
     "start_time": "2020-11-16T18:29:55.896121",
     "status": "completed"
    },
    "tags": []
   },
   "outputs": [],
   "source": [
    "import numpy as np\n",
    "import pandas as pd\n",
    "import matplotlib.pyplot as plt\n",
    "import warnings\n",
    "import datetime\n",
    "from sklearn.model_selection import train_test_split\n",
    "from sklearn.model_selection import GridSearchCV\n",
    "from sklearn.linear_model import LogisticRegression\n",
    "from IPython.core.interactiveshell import InteractiveShell\n",
    "from tqdm import tqdm\n",
    "InteractiveShell.ast_node_interactivity = 'all'\n",
    "warnings.filterwarnings('ignore')\n"
   ]
  },
  {
   "cell_type": "markdown",
   "metadata": {
    "papermill": {
     "duration": 0.039904,
     "end_time": "2020-11-16T18:29:57.565453",
     "exception": false,
     "start_time": "2020-11-16T18:29:57.525549",
     "status": "completed"
    },
    "tags": []
   },
   "source": [
    "# 数据准备"
   ]
  },
  {
   "cell_type": "code",
   "execution_count": 34,
   "metadata": {
    "ExecuteTime": {
     "end_time": "2019-10-25T08:59:05.948706Z",
     "start_time": "2019-10-25T08:58:20.331850Z"
    },
    "execution": {
     "iopub.execute_input": "2020-11-16T18:29:57.651732Z",
     "iopub.status.busy": "2020-11-16T18:29:57.650986Z",
     "iopub.status.idle": "2020-11-16T18:29:57.797313Z",
     "shell.execute_reply": "2020-11-16T18:29:57.795662Z"
    },
    "papermill": {
     "duration": 0.192831,
     "end_time": "2020-11-16T18:29:57.797552",
     "exception": true,
     "start_time": "2020-11-16T18:29:57.604721",
     "status": "failed"
    },
    "tags": []
   },
   "outputs": [],
   "source": [
    "df_train = pd.read_excel('./LoanStats_2018Q2.xlsx')"
   ]
  },
  {
   "cell_type": "code",
   "execution_count": 35,
   "metadata": {},
   "outputs": [
    {
     "data": {
      "text/html": [
       "<div>\n",
       "<style scoped>\n",
       "    .dataframe tbody tr th:only-of-type {\n",
       "        vertical-align: middle;\n",
       "    }\n",
       "\n",
       "    .dataframe tbody tr th {\n",
       "        vertical-align: top;\n",
       "    }\n",
       "\n",
       "    .dataframe thead th {\n",
       "        text-align: right;\n",
       "    }\n",
       "</style>\n",
       "<table border=\"1\" class=\"dataframe\">\n",
       "  <thead>\n",
       "    <tr style=\"text-align: right;\">\n",
       "      <th></th>\n",
       "      <th>id</th>\n",
       "      <th>loan_amnt</th>\n",
       "      <th>funded_amnt</th>\n",
       "      <th>funded_amnt_inv</th>\n",
       "      <th>term</th>\n",
       "      <th>int_rate</th>\n",
       "      <th>installment</th>\n",
       "      <th>grade</th>\n",
       "      <th>sub_grade</th>\n",
       "      <th>emp_title</th>\n",
       "      <th>...</th>\n",
       "      <th>sec_app_open_acc</th>\n",
       "      <th>sec_app_revol_util</th>\n",
       "      <th>sec_app_open_act_il</th>\n",
       "      <th>sec_app_num_rev_accts</th>\n",
       "      <th>sec_app_chargeoff_within_12_mths</th>\n",
       "      <th>sec_app_collections_12_mths_ex_med</th>\n",
       "      <th>sec_app_mths_since_last_major_derog</th>\n",
       "      <th>hardship_flag</th>\n",
       "      <th>disbursement_method</th>\n",
       "      <th>debt_settlement_flag</th>\n",
       "    </tr>\n",
       "  </thead>\n",
       "  <tbody>\n",
       "    <tr>\n",
       "      <th>0</th>\n",
       "      <td>NaN</td>\n",
       "      <td>10000.0</td>\n",
       "      <td>10000.0</td>\n",
       "      <td>10000.0</td>\n",
       "      <td>36 months</td>\n",
       "      <td>20.39%</td>\n",
       "      <td>373.63</td>\n",
       "      <td>D</td>\n",
       "      <td>D4</td>\n",
       "      <td>Realtor</td>\n",
       "      <td>...</td>\n",
       "      <td>5.0</td>\n",
       "      <td>99.2</td>\n",
       "      <td>1.0</td>\n",
       "      <td>4.0</td>\n",
       "      <td>0.0</td>\n",
       "      <td>0.0</td>\n",
       "      <td>NaN</td>\n",
       "      <td>N</td>\n",
       "      <td>Cash</td>\n",
       "      <td>N</td>\n",
       "    </tr>\n",
       "    <tr>\n",
       "      <th>1</th>\n",
       "      <td>NaN</td>\n",
       "      <td>8000.0</td>\n",
       "      <td>8000.0</td>\n",
       "      <td>8000.0</td>\n",
       "      <td>36 months</td>\n",
       "      <td>6.83%</td>\n",
       "      <td>246.40</td>\n",
       "      <td>A</td>\n",
       "      <td>A3</td>\n",
       "      <td>City Attorney</td>\n",
       "      <td>...</td>\n",
       "      <td>NaN</td>\n",
       "      <td>NaN</td>\n",
       "      <td>NaN</td>\n",
       "      <td>NaN</td>\n",
       "      <td>NaN</td>\n",
       "      <td>NaN</td>\n",
       "      <td>NaN</td>\n",
       "      <td>N</td>\n",
       "      <td>Cash</td>\n",
       "      <td>N</td>\n",
       "    </tr>\n",
       "    <tr>\n",
       "      <th>2</th>\n",
       "      <td>NaN</td>\n",
       "      <td>20000.0</td>\n",
       "      <td>20000.0</td>\n",
       "      <td>20000.0</td>\n",
       "      <td>60 months</td>\n",
       "      <td>6.83%</td>\n",
       "      <td>394.43</td>\n",
       "      <td>A</td>\n",
       "      <td>A3</td>\n",
       "      <td>NaN</td>\n",
       "      <td>...</td>\n",
       "      <td>NaN</td>\n",
       "      <td>NaN</td>\n",
       "      <td>NaN</td>\n",
       "      <td>NaN</td>\n",
       "      <td>NaN</td>\n",
       "      <td>NaN</td>\n",
       "      <td>NaN</td>\n",
       "      <td>N</td>\n",
       "      <td>DirectPay</td>\n",
       "      <td>N</td>\n",
       "    </tr>\n",
       "    <tr>\n",
       "      <th>3</th>\n",
       "      <td>NaN</td>\n",
       "      <td>16000.0</td>\n",
       "      <td>16000.0</td>\n",
       "      <td>16000.0</td>\n",
       "      <td>36 months</td>\n",
       "      <td>14.03%</td>\n",
       "      <td>547.08</td>\n",
       "      <td>C</td>\n",
       "      <td>C2</td>\n",
       "      <td>SA Counselor</td>\n",
       "      <td>...</td>\n",
       "      <td>NaN</td>\n",
       "      <td>NaN</td>\n",
       "      <td>NaN</td>\n",
       "      <td>NaN</td>\n",
       "      <td>NaN</td>\n",
       "      <td>NaN</td>\n",
       "      <td>NaN</td>\n",
       "      <td>N</td>\n",
       "      <td>Cash</td>\n",
       "      <td>N</td>\n",
       "    </tr>\n",
       "    <tr>\n",
       "      <th>4</th>\n",
       "      <td>NaN</td>\n",
       "      <td>1000.0</td>\n",
       "      <td>1000.0</td>\n",
       "      <td>1000.0</td>\n",
       "      <td>36 months</td>\n",
       "      <td>23.87%</td>\n",
       "      <td>39.17</td>\n",
       "      <td>E</td>\n",
       "      <td>E2</td>\n",
       "      <td>Senior Electrical Engineer</td>\n",
       "      <td>...</td>\n",
       "      <td>NaN</td>\n",
       "      <td>NaN</td>\n",
       "      <td>NaN</td>\n",
       "      <td>NaN</td>\n",
       "      <td>NaN</td>\n",
       "      <td>NaN</td>\n",
       "      <td>NaN</td>\n",
       "      <td>N</td>\n",
       "      <td>Cash</td>\n",
       "      <td>N</td>\n",
       "    </tr>\n",
       "  </tbody>\n",
       "</table>\n",
       "<p>5 rows × 122 columns</p>\n",
       "</div>"
      ],
      "text/plain": [
       "    id  loan_amnt  funded_amnt  funded_amnt_inv        term int_rate  \\\n",
       "0  NaN    10000.0      10000.0          10000.0   36 months   20.39%   \n",
       "1  NaN     8000.0       8000.0           8000.0   36 months    6.83%   \n",
       "2  NaN    20000.0      20000.0          20000.0   60 months    6.83%   \n",
       "3  NaN    16000.0      16000.0          16000.0   36 months   14.03%   \n",
       "4  NaN     1000.0       1000.0           1000.0   36 months   23.87%   \n",
       "\n",
       "   installment grade sub_grade                   emp_title  ...  \\\n",
       "0       373.63     D        D4                     Realtor  ...   \n",
       "1       246.40     A        A3               City Attorney  ...   \n",
       "2       394.43     A        A3                         NaN  ...   \n",
       "3       547.08     C        C2                SA Counselor  ...   \n",
       "4        39.17     E        E2  Senior Electrical Engineer  ...   \n",
       "\n",
       "  sec_app_open_acc sec_app_revol_util  sec_app_open_act_il  \\\n",
       "0              5.0               99.2                  1.0   \n",
       "1              NaN                NaN                  NaN   \n",
       "2              NaN                NaN                  NaN   \n",
       "3              NaN                NaN                  NaN   \n",
       "4              NaN                NaN                  NaN   \n",
       "\n",
       "  sec_app_num_rev_accts sec_app_chargeoff_within_12_mths  \\\n",
       "0                   4.0                              0.0   \n",
       "1                   NaN                              NaN   \n",
       "2                   NaN                              NaN   \n",
       "3                   NaN                              NaN   \n",
       "4                   NaN                              NaN   \n",
       "\n",
       "  sec_app_collections_12_mths_ex_med sec_app_mths_since_last_major_derog  \\\n",
       "0                                0.0                                 NaN   \n",
       "1                                NaN                                 NaN   \n",
       "2                                NaN                                 NaN   \n",
       "3                                NaN                                 NaN   \n",
       "4                                NaN                                 NaN   \n",
       "\n",
       "  hardship_flag disbursement_method debt_settlement_flag  \n",
       "0             N                Cash                    N  \n",
       "1             N                Cash                    N  \n",
       "2             N           DirectPay                    N  \n",
       "3             N                Cash                    N  \n",
       "4             N                Cash                    N  \n",
       "\n",
       "[5 rows x 122 columns]"
      ]
     },
     "execution_count": 35,
     "metadata": {},
     "output_type": "execute_result"
    }
   ],
   "source": [
    "df_train.head()"
   ]
  },
  {
   "cell_type": "markdown",
   "metadata": {
    "papermill": {
     "duration": null,
     "end_time": null,
     "exception": null,
     "start_time": null,
     "status": "pending"
    },
    "tags": []
   },
   "source": [
    "## 建立统计dataframe"
   ]
  },
  {
   "cell_type": "code",
   "execution_count": null,
   "metadata": {
    "ExecuteTime": {
     "end_time": "2019-10-25T08:59:06.922468Z",
     "start_time": "2019-10-25T08:59:05.950896Z"
    },
    "papermill": {
     "duration": null,
     "end_time": null,
     "exception": null,
     "start_time": null,
     "status": "pending"
    },
    "tags": []
   },
   "outputs": [],
   "source": [
    "df_summary = dataSetSummary(df_train)\n",
    "df_summary\n"
   ]
  },
  {
   "cell_type": "markdown",
   "metadata": {
    "papermill": {
     "duration": null,
     "end_time": null,
     "exception": null,
     "start_time": null,
     "status": "pending"
    },
    "tags": []
   },
   "source": [
    "## 剔除缺失率高（大于90%）的特征"
   ]
  },
  {
   "cell_type": "code",
   "execution_count": null,
   "metadata": {
    "ExecuteTime": {
     "end_time": "2019-10-25T08:59:07.034485Z",
     "start_time": "2019-10-25T08:59:06.925174Z"
    },
    "papermill": {
     "duration": null,
     "end_time": null,
     "exception": null,
     "start_time": null,
     "status": "pending"
    },
    "tags": []
   },
   "outputs": [],
   "source": [
    "df_train = dataSetElimNullFeat(df_train, df_summary)"
   ]
  },
  {
   "cell_type": "code",
   "execution_count": null,
   "metadata": {
    "ExecuteTime": {
     "end_time": "2019-10-25T08:59:07.585701Z",
     "start_time": "2019-10-25T08:59:07.037507Z"
    },
    "papermill": {
     "duration": null,
     "end_time": null,
     "exception": null,
     "start_time": null,
     "status": "pending"
    },
    "tags": []
   },
   "outputs": [],
   "source": [
    "df_summary = dataSetSummary(df_train)\n",
    "df_summary"
   ]
  },
  {
   "cell_type": "markdown",
   "metadata": {
    "papermill": {
     "duration": null,
     "end_time": null,
     "exception": null,
     "start_time": null,
     "status": "pending"
    },
    "tags": []
   },
   "source": [
    "## 剔除常值特征（特征某个取值占比超过95%）"
   ]
  },
  {
   "cell_type": "code",
   "execution_count": null,
   "metadata": {
    "ExecuteTime": {
     "end_time": "2019-10-25T08:59:07.628600Z",
     "start_time": "2019-10-25T08:59:07.587591Z"
    },
    "papermill": {
     "duration": null,
     "end_time": null,
     "exception": null,
     "start_time": null,
     "status": "pending"
    },
    "tags": []
   },
   "outputs": [],
   "source": [
    "df_train = dataSetElimInvarFeat(df_train, df_summary)"
   ]
  },
  {
   "cell_type": "code",
   "execution_count": null,
   "metadata": {
    "ExecuteTime": {
     "end_time": "2019-10-25T08:59:08.074569Z",
     "start_time": "2019-10-25T08:59:07.630994Z"
    },
    "papermill": {
     "duration": null,
     "end_time": null,
     "exception": null,
     "start_time": null,
     "status": "pending"
    },
    "tags": []
   },
   "outputs": [],
   "source": [
    "df_summary = dataSetSummary(df_train)\n",
    "df_summary"
   ]
  },
  {
   "cell_type": "markdown",
   "metadata": {
    "papermill": {
     "duration": null,
     "end_time": null,
     "exception": null,
     "start_time": null,
     "status": "pending"
    },
    "tags": []
   },
   "source": [
    "## 删除贷后特征 & 删除空行和重复行 & 60期的行"
   ]
  },
  {
   "cell_type": "code",
   "execution_count": null,
   "metadata": {
    "ExecuteTime": {
     "end_time": "2019-10-25T08:59:08.876057Z",
     "start_time": "2019-10-25T08:59:08.078490Z"
    },
    "papermill": {
     "duration": null,
     "end_time": null,
     "exception": null,
     "start_time": null,
     "status": "pending"
    },
    "tags": []
   },
   "outputs": [],
   "source": [
    "list_featureLoanAfter = ['sub_grade', 'grade', 'initial_list_status', 'out_prncp', 'out_prncp_inv',\n",
    "                         'total_pymnt', 'total_pymnt_inv', 'total_rec_prncp', 'total_rec_int',\n",
    "                         'total_rec_late_fee', 'recoveries', 'collection_recovery_fee',\n",
    "                         'last_pymnt_d', 'last_pymnt_amnt', 'last_credit_pull_d',\n",
    "                         'collections_12_mths_ex_med', 'policy_code', 'disbursement_method',\n",
    "                         'id', 'desc', 'emp_title', 'title']\n",
    "for feature in list_featureLoanAfter:\n",
    "    if feature in list(df_train.columns):\n",
    "        df_train.drop(feature, axis=1, inplace=True)\n",
    "df_train = df_train.drop_duplicates().dropna(how='all', axis=0)\n",
    "df_summary = dataSetSummary(df_train)\n",
    "df_summary"
   ]
  },
  {
   "cell_type": "markdown",
   "metadata": {
    "papermill": {
     "duration": null,
     "end_time": null,
     "exception": null,
     "start_time": null,
     "status": "pending"
    },
    "tags": []
   },
   "source": [
    "## 转化特征"
   ]
  },
  {
   "cell_type": "code",
   "execution_count": null,
   "metadata": {
    "ExecuteTime": {
     "end_time": "2019-10-25T08:59:09.859446Z",
     "start_time": "2019-10-25T08:59:08.879941Z"
    },
    "papermill": {
     "duration": null,
     "end_time": null,
     "exception": null,
     "start_time": null,
     "status": "pending"
    },
    "tags": []
   },
   "outputs": [],
   "source": [
    "# term, 期数\n",
    "df_train['term'] = df_train['term'].apply(lambda x: pd.to_numeric(x.replace('months', ''), errors='coerce'))\n",
    "df_train = df_train.loc[df_train['term'] == 36]\n",
    "df_train = df_train.drop('term', axis=1)"
   ]
  },
  {
   "cell_type": "code",
   "execution_count": null,
   "metadata": {
    "ExecuteTime": {
     "end_time": "2019-10-25T08:59:09.873750Z",
     "start_time": "2019-10-25T08:59:09.861359Z"
    },
    "papermill": {
     "duration": null,
     "end_time": null,
     "exception": null,
     "start_time": null,
     "status": "pending"
    },
    "tags": []
   },
   "outputs": [],
   "source": [
    "# emp_length, 工作年限\n",
    "dict_emp_length = {'< 1 year': '00', '1 year': '01', '2 years': '02',\n",
    "                   '3 years': '03', '4 years': '04', '5 years': '05',\n",
    "                   '6 years': '06', '7 years': '07', '8 years': '08',\n",
    "                   '9 years': '09', '10+ years': '10'}\n",
    "df_train['emp_length'] = df_train['emp_length'].map(dict_emp_length)"
   ]
  },
  {
   "cell_type": "code",
   "execution_count": null,
   "metadata": {
    "ExecuteTime": {
     "end_time": "2019-10-25T08:59:10.556323Z",
     "start_time": "2019-10-25T08:59:09.879073Z"
    },
    "papermill": {
     "duration": null,
     "end_time": null,
     "exception": null,
     "start_time": null,
     "status": "pending"
    },
    "tags": []
   },
   "outputs": [],
   "source": [
    "# delinq_2yrs, 过去两年逾期次数, 存在一个错误数据\n",
    "df_train['delinq_2yrs'] = df_train['delinq_2yrs'].apply(pd.to_numeric, errors='coerce')"
   ]
  },
  {
   "cell_type": "code",
   "execution_count": null,
   "metadata": {
    "ExecuteTime": {
     "end_time": "2019-10-25T08:59:11.335599Z",
     "start_time": "2019-10-25T08:59:10.557902Z"
    },
    "papermill": {
     "duration": null,
     "end_time": null,
     "exception": null,
     "start_time": null,
     "status": "pending"
    },
    "tags": []
   },
   "outputs": [],
   "source": [
    "# total_acc, 借款人当前信用额度总个数, 存在一个错误数据\n",
    "df_train['total_acc'] = df_train['total_acc'].apply(pd.to_numeric, errors='coerce')"
   ]
  },
  {
   "cell_type": "markdown",
   "metadata": {
    "papermill": {
     "duration": null,
     "end_time": null,
     "exception": null,
     "start_time": null,
     "status": "pending"
    },
    "tags": []
   },
   "source": [
    "## 创建新特征"
   ]
  },
  {
   "cell_type": "code",
   "execution_count": null,
   "metadata": {
    "ExecuteTime": {
     "end_time": "2019-10-25T08:59:12.473556Z",
     "start_time": "2019-10-25T08:59:11.337514Z"
    },
    "papermill": {
     "duration": null,
     "end_time": null,
     "exception": null,
     "start_time": null,
     "status": "pending"
    },
    "tags": []
   },
   "outputs": [],
   "source": [
    "# gap_months, 最早开户日至申请日之间的月份\n",
    "df_train['earliest_to_issue'] = df_train.apply(lambda x: get_monthsbetween(x['earliest_cr_line'], x['issue_d']), axis=1)\n",
    "df_train = df_train.drop(['earliest_cr_line', 'issue_d'], axis=1)\n",
    "\n"
   ]
  },
  {
   "cell_type": "markdown",
   "metadata": {
    "papermill": {
     "duration": null,
     "end_time": null,
     "exception": null,
     "start_time": null,
     "status": "pending"
    },
    "tags": []
   },
   "source": [
    "## 创建目标变量（y值）\n"
   ]
  },
  {
   "cell_type": "code",
   "execution_count": null,
   "metadata": {
    "ExecuteTime": {
     "end_time": "2019-10-25T08:59:12.518086Z",
     "start_time": "2019-10-25T08:59:12.475707Z"
    },
    "papermill": {
     "duration": null,
     "end_time": null,
     "exception": null,
     "start_time": null,
     "status": "pending"
    },
    "scrolled": true,
    "tags": []
   },
   "outputs": [],
   "source": [
    "df_train['y'] = df_train['loan_status'].apply(lambda x: 0 if 'Fully Paid' in x else 1)\n",
    "df_train = df_train.drop('loan_status', axis=1)"
   ]
  },
  {
   "cell_type": "code",
   "execution_count": null,
   "metadata": {
    "ExecuteTime": {
     "end_time": "2019-10-25T08:59:12.717359Z",
     "start_time": "2019-10-25T08:59:12.520158Z"
    },
    "papermill": {
     "duration": null,
     "end_time": null,
     "exception": null,
     "start_time": null,
     "status": "pending"
    },
    "tags": []
   },
   "outputs": [],
   "source": [
    "df_summary = dataSetSummary(df_train)\n",
    "df_summary"
   ]
  },
  {
   "cell_type": "markdown",
   "metadata": {
    "papermill": {
     "duration": null,
     "end_time": null,
     "exception": null,
     "start_time": null,
     "status": "pending"
    },
    "tags": []
   },
   "source": [
    "# EDA"
   ]
  },
  {
   "cell_type": "markdown",
   "metadata": {
    "papermill": {
     "duration": null,
     "end_time": null,
     "exception": null,
     "start_time": null,
     "status": "pending"
    },
    "tags": []
   },
   "source": [
    "## 整理连续型特征、类别型特征"
   ]
  },
  {
   "cell_type": "code",
   "execution_count": null,
   "metadata": {
    "ExecuteTime": {
     "end_time": "2019-10-25T08:59:12.727673Z",
     "start_time": "2019-10-25T08:59:12.719409Z"
    },
    "papermill": {
     "duration": null,
     "end_time": null,
     "exception": null,
     "start_time": null,
     "status": "pending"
    },
    "tags": []
   },
   "outputs": [],
   "source": [
    "cols_discrete = ['emp_length', 'home_ownership', 'verification_status', 'purpose', 'addr_state',\n",
    "                 'zip_code']\n",
    "cols_continuous = []\n",
    "for feat in list(df_summary['featureName']):\n",
    "    if feat not in cols_discrete:\n",
    "        cols_continuous.append(feat)\n",
    "\n",
    "# 类别性\n",
    "cols_discrete\n",
    "# 连续型\n",
    "cols_continuous"
   ]
  },
  {
   "cell_type": "markdown",
   "metadata": {
    "papermill": {
     "duration": null,
     "end_time": null,
     "exception": null,
     "start_time": null,
     "status": "pending"
    },
    "tags": []
   },
   "source": [
    "## 类别型特征"
   ]
  },
  {
   "cell_type": "code",
   "execution_count": null,
   "metadata": {
    "ExecuteTime": {
     "end_time": "2019-10-25T08:59:50.614065Z",
     "start_time": "2019-10-25T08:59:12.729472Z"
    },
    "papermill": {
     "duration": null,
     "end_time": null,
     "exception": null,
     "start_time": null,
     "status": "pending"
    },
    "tags": []
   },
   "outputs": [],
   "source": [
    "# discrete features\n",
    "plot_discrete(df_train, cols_discrete, 'y')"
   ]
  },
  {
   "cell_type": "markdown",
   "metadata": {
    "papermill": {
     "duration": null,
     "end_time": null,
     "exception": null,
     "start_time": null,
     "status": "pending"
    },
    "tags": []
   },
   "source": [
    "## 连续型特征"
   ]
  },
  {
   "cell_type": "code",
   "execution_count": null,
   "metadata": {
    "ExecuteTime": {
     "end_time": "2019-10-25T09:00:12.054924Z",
     "start_time": "2019-10-25T08:59:50.615791Z"
    },
    "papermill": {
     "duration": null,
     "end_time": null,
     "exception": null,
     "start_time": null,
     "status": "pending"
    },
    "tags": []
   },
   "outputs": [],
   "source": [
    "# continuous features\n",
    "plot_continuous(df_train, cols_continuous, 'y')"
   ]
  },
  {
   "cell_type": "markdown",
   "metadata": {
    "papermill": {
     "duration": null,
     "end_time": null,
     "exception": null,
     "start_time": null,
     "status": "pending"
    },
    "tags": []
   },
   "source": [
    "# 卡方分箱"
   ]
  },
  {
   "cell_type": "markdown",
   "metadata": {
    "papermill": {
     "duration": null,
     "end_time": null,
     "exception": null,
     "start_time": null,
     "status": "pending"
    },
    "tags": []
   },
   "source": [
    "## 分箱前的异常值&缺失值处理"
   ]
  },
  {
   "cell_type": "code",
   "execution_count": null,
   "metadata": {
    "ExecuteTime": {
     "end_time": "2019-10-25T09:00:12.090709Z",
     "start_time": "2019-10-25T09:00:12.060235Z"
    },
    "papermill": {
     "duration": null,
     "end_time": null,
     "exception": null,
     "start_time": null,
     "status": "pending"
    },
    "tags": []
   },
   "outputs": [],
   "source": [
    "# emp_length, 类别型,不满空箱5%的要求,用众数填充\n",
    "df_train['emp_length'] = df_train['emp_length'].fillna(df_train['emp_length'].mode().values[0])\n",
    "\n",
    "# annual_inc, 连续型,不满空箱5%的要求,用中位数填充\n",
    "df_train['annual_inc'] = df_train['annual_inc'].fillna(df_train['annual_inc'].median())\n",
    "\n",
    "# delinq_2yrs, 连续型,不满空箱5%的要求,用中位数填充\n",
    "df_train['delinq_2yrs'] = df_train['delinq_2yrs'].fillna(df_train['delinq_2yrs'].median())\n",
    "\n",
    "# inq_last_6mths, 连续型,不满空箱5%的要求,用中位数填充\n",
    "df_train['inq_last_6mths'] = df_train['inq_last_6mths'].fillna(df_train['inq_last_6mths'].median())\n",
    "\n",
    "# mths_since_last_delinq, 连续型, 业务可解释,用0填充\n",
    "df_train['mths_since_last_delinq'] = df_train['mths_since_last_delinq'].fillna(0)\n",
    "\n",
    "# open_acc, 连续型,不满空箱5%的要求,用中位数填充\n",
    "df_train['open_acc'] = df_train['open_acc'].fillna(df_train['open_acc'].median())\n",
    "\n",
    "# pub_rec, 连续型,不满空箱5%的要求,用中位数填充\n",
    "df_train['pub_rec'] = df_train['pub_rec'].fillna(df_train['pub_rec'].median())\n",
    "\n",
    "# revol_util, 连续型,不满空箱5%的要求,用中位数填充\n",
    "df_train['revol_util'] = df_train['revol_util'].fillna(df_train['revol_util'].median())\n",
    "\n",
    "# total_acc, 连续型,不满空箱5%的要求,用中位数填充\n",
    "df_train['total_acc'] = df_train['total_acc'].fillna(df_train['total_acc'].median())\n",
    "\n",
    "# pub_rec_bankruptcies, 连续型,大致满足空箱5%的要求,用-1填充\n",
    "df_train['pub_rec_bankruptcies'] = df_train['pub_rec_bankruptcies'].fillna(-1)\n",
    "\n",
    "# earliest_to_issue, 不满空箱5%的要求,用中位数填充\n",
    "df_train['earliest_to_issue'] = df_train['earliest_to_issue'].fillna(df_train['earliest_to_issue'].median())"
   ]
  },
  {
   "cell_type": "code",
   "execution_count": null,
   "metadata": {
    "ExecuteTime": {
     "end_time": "2019-10-25T09:00:12.292657Z",
     "start_time": "2019-10-25T09:00:12.092594Z"
    },
    "papermill": {
     "duration": null,
     "end_time": null,
     "exception": null,
     "start_time": null,
     "status": "pending"
    },
    "tags": []
   },
   "outputs": [],
   "source": [
    "df_summary = dataSetSummary(df_train)\n",
    "df_summary"
   ]
  },
  {
   "cell_type": "markdown",
   "metadata": {
    "papermill": {
     "duration": null,
     "end_time": null,
     "exception": null,
     "start_time": null,
     "status": "pending"
    },
    "tags": []
   },
   "source": [
    "## 卡方分箱参数"
   ]
  },
  {
   "cell_type": "code",
   "execution_count": null,
   "metadata": {
    "ExecuteTime": {
     "end_time": "2019-10-25T09:00:12.327546Z",
     "start_time": "2019-10-25T09:00:12.294558Z"
    },
    "papermill": {
     "duration": null,
     "end_time": null,
     "exception": null,
     "start_time": null,
     "status": "pending"
    },
    "tags": []
   },
   "outputs": [],
   "source": [
    "# 分割训练集，测试集, 注意这里是为了分箱的预处理,所以不能去掉y值\n",
    "X_train, X_test = train_test_split(df_train,\n",
    "                                   test_size=0.2, random_state=1,\n",
    "                                   stratify=df_train['y'])\n",
    "# 最大分箱数目\n",
    "max_intervals = 8\n",
    "# 单项数据量最小占比\n",
    "min_pnt = 0.05"
   ]
  },
  {
   "cell_type": "markdown",
   "metadata": {
    "papermill": {
     "duration": null,
     "end_time": null,
     "exception": null,
     "start_time": null,
     "status": "pending"
    },
    "tags": []
   },
   "source": [
    "### 离散型特征"
   ]
  },
  {
   "cell_type": "code",
   "execution_count": null,
   "metadata": {
    "ExecuteTime": {
     "end_time": "2019-10-25T09:00:12.375139Z",
     "start_time": "2019-10-25T09:00:12.329504Z"
    },
    "papermill": {
     "duration": null,
     "end_time": null,
     "exception": null,
     "start_time": null,
     "status": "pending"
    },
    "tags": []
   },
   "outputs": [],
   "source": [
    "# 将离散型特征分为三类\n",
    "# 1: 离散有序特征 feat_order\n",
    "# 2: 离散无序分箱数小于等于阈值 feat_discrete_less\n",
    "# 3: 离散无序分箱数大于阈值 feat_discrete_more\n",
    "feat_discrete_order = ['emp_length']\n",
    "feat_discrete_less = []\n",
    "feat_discrete_more = []\n",
    "for feat in cols_discrete:\n",
    "    if feat in feat_discrete_order:\n",
    "        continue\n",
    "    elif len(set(X_train[feat])) <= max_intervals:\n",
    "        feat_discrete_less.append(feat)\n",
    "    else:\n",
    "        feat_discrete_more.append(feat)\n",
    "\n",
    "# 展开看看\n",
    "feat_discrete_order\n",
    "feat_discrete_less\n",
    "feat_discrete_more"
   ]
  },
  {
   "cell_type": "code",
   "execution_count": null,
   "metadata": {
    "ExecuteTime": {
     "end_time": "2019-10-25T09:00:12.878236Z",
     "start_time": "2019-10-25T09:00:12.379504Z"
    },
    "papermill": {
     "duration": null,
     "end_time": null,
     "exception": null,
     "start_time": null,
     "status": "pending"
    },
    "tags": []
   },
   "outputs": [],
   "source": [
    "discrete_order = {'emp_length':{'00': 0, '01': 1, '02': 2, '03': 3, '04': 4,\n",
    "                                '05': 5, '06': 6, '07': 7, '08': 8, '09': 9, \n",
    "                                '10': 10}}\n",
    "dict_discrete_featToBins, dict_discrete_iv, dict_discrete_woe = chi2_cutting_discrete(X=X_train, \n",
    "                                                                                      feat_list=feat_discrete_less + feat_discrete_order, \n",
    "                                                                                      y='y', \n",
    "                                                                                      special_feat_val={}, \n",
    "                                                                                      max_intervals=max_intervals, \n",
    "                                                                                      min_pnt=min_pnt,\n",
    "                                                                                      discrete_order=discrete_order, \n",
    "                                                                                      mono_expect={'emp_length':{'shape':'mono', 'u':False}}, \n",
    "                                                                                      print_process=True, \n",
    "                                                                                      pr_process_time=True)"
   ]
  },
  {
   "cell_type": "markdown",
   "metadata": {
    "papermill": {
     "duration": null,
     "end_time": null,
     "exception": null,
     "start_time": null,
     "status": "pending"
    },
    "tags": []
   },
   "source": [
    "### 连续型特征"
   ]
  },
  {
   "cell_type": "code",
   "execution_count": null,
   "metadata": {
    "ExecuteTime": {
     "end_time": "2019-10-25T09:00:12.892962Z",
     "start_time": "2019-10-25T09:00:12.880739Z"
    },
    "papermill": {
     "duration": null,
     "end_time": null,
     "exception": null,
     "start_time": null,
     "status": "pending"
    },
    "tags": []
   },
   "outputs": [],
   "source": [
    "# 无序离散多\n",
    "feat_discrete_more\n",
    "# 连续型\n",
    "cols_continuous\n",
    "# 连续型全部需要检查单调性\n",
    "mono_contin = {i:{'shape': 'mono', 'u': False} for i in cols_continuous} \n",
    "mono_contin"
   ]
  },
  {
   "cell_type": "code",
   "execution_count": null,
   "metadata": {
    "ExecuteTime": {
     "end_time": "2019-10-25T09:05:30.680238Z",
     "start_time": "2019-10-25T09:00:12.894877Z"
    },
    "papermill": {
     "duration": null,
     "end_time": null,
     "exception": null,
     "start_time": null,
     "status": "pending"
    },
    "tags": []
   },
   "outputs": [],
   "source": [
    "dict_contin_featToBins, dict_contin_iv, dict_contin_woe = chi2_cutting_continuous(X_train, \n",
    "                                                                                  feat_list = feat_discrete_more + cols_continuous, \n",
    "                                                                                  y='y',\n",
    "                                                                                  discrete_more_feats=feat_discrete_more,\n",
    "                                                                                  special_feat_val={'pub_rec_bankruptcies':[-1]}, \n",
    "                                                                                  max_intervals=8, \n",
    "                                                                                  min_pnt=0.05,\n",
    "                                                                                  mono_expect=mono_contin,\n",
    "                                                                                  print_process=True, pr_process_time=True)"
   ]
  },
  {
   "cell_type": "markdown",
   "metadata": {
    "papermill": {
     "duration": null,
     "end_time": null,
     "exception": null,
     "start_time": null,
     "status": "pending"
    },
    "tags": []
   },
   "source": [
    "## 整理分组取值、WOE系数、特征IV"
   ]
  },
  {
   "cell_type": "code",
   "execution_count": null,
   "metadata": {
    "ExecuteTime": {
     "end_time": "2019-10-25T09:05:30.688267Z",
     "start_time": "2019-10-25T09:05:30.683269Z"
    },
    "papermill": {
     "duration": null,
     "end_time": null,
     "exception": null,
     "start_time": null,
     "status": "pending"
    },
    "tags": []
   },
   "outputs": [],
   "source": [
    "# 分组取值\n",
    "dict_featToBins = {}\n",
    "dict_featToBins.update(dict_contin_featToBins)\n",
    "dict_featToBins.update(dict_discrete_featToBins)\n",
    "\n",
    "# WOE系数\n",
    "dict_featWoe = {}\n",
    "dict_featWoe.update(dict_discrete_woe)\n",
    "dict_featWoe.update(dict_contin_woe)\n",
    "\n",
    "# 特征IV\n",
    "dict_featIv = {}\n",
    "dict_featIv.update(dict_discrete_iv)\n",
    "dict_featIv.update(dict_contin_iv)"
   ]
  },
  {
   "cell_type": "markdown",
   "metadata": {
    "papermill": {
     "duration": null,
     "end_time": null,
     "exception": null,
     "start_time": null,
     "status": "pending"
    },
    "tags": []
   },
   "source": [
    "# 对训练集进行WOE转换"
   ]
  },
  {
   "cell_type": "code",
   "execution_count": null,
   "metadata": {
    "ExecuteTime": {
     "end_time": "2019-10-25T09:05:32.270297Z",
     "start_time": "2019-10-25T09:05:30.692084Z"
    },
    "papermill": {
     "duration": null,
     "end_time": null,
     "exception": null,
     "start_time": null,
     "status": "pending"
    },
    "tags": []
   },
   "outputs": [],
   "source": [
    "X_train_woe, dict_featIv_woe = dataset_woe_trans(X=X_train, dict_feativ=dict_featIv,\n",
    "                                                 feat_disc=cols_discrete, \n",
    "                                                 dict_feattobins=dict_featToBins, \n",
    "                                                 dict_featwoe=dict_featWoe)"
   ]
  },
  {
   "cell_type": "markdown",
   "metadata": {
    "papermill": {
     "duration": null,
     "end_time": null,
     "exception": null,
     "start_time": null,
     "status": "pending"
    },
    "tags": []
   },
   "source": [
    "# 基于IV剔除特征"
   ]
  },
  {
   "cell_type": "code",
   "execution_count": null,
   "metadata": {
    "ExecuteTime": {
     "end_time": "2019-10-25T09:05:32.707488Z",
     "start_time": "2019-10-25T09:05:32.272469Z"
    },
    "papermill": {
     "duration": null,
     "end_time": null,
     "exception": null,
     "start_time": null,
     "status": "pending"
    },
    "tags": []
   },
   "outputs": [],
   "source": [
    "# 变量IV普遍都比较低, 设置阈值为0.01\n",
    "# logit_summary(X_train_woe)\n",
    "iv_thres = 0.01\n",
    "list_feats_l_iv = feats_iv_proc(dict_feativ=dict_featIv_woe, iv_thres=iv_thres)\n",
    "list_feats_l_iv\n",
    "X_train_woe = X_train_woe.drop(list_feats_l_iv, axis=1)"
   ]
  },
  {
   "cell_type": "markdown",
   "metadata": {
    "papermill": {
     "duration": null,
     "end_time": null,
     "exception": null,
     "start_time": null,
     "status": "pending"
    },
    "tags": []
   },
   "source": [
    "# 基于相关系数(皮尔逊)剔除特征"
   ]
  },
  {
   "cell_type": "code",
   "execution_count": null,
   "metadata": {
    "ExecuteTime": {
     "end_time": "2019-10-25T09:05:34.622585Z",
     "start_time": "2019-10-25T09:05:32.709568Z"
    },
    "papermill": {
     "duration": null,
     "end_time": null,
     "exception": null,
     "start_time": null,
     "status": "pending"
    },
    "tags": []
   },
   "outputs": [],
   "source": [
    "# 3.1.1的matplotlib有BUG, 可能显示的热力图会不完全\n",
    "# 默认阈值为corr=0.7\n",
    "# logit_summary(X_train_woe)\n",
    "list_feats_h_corr = feats_corr_proc(X=X_train_woe, dict_feativ=dict_featIv_woe)\n",
    "list_feats_h_corr\n",
    "X_train_woe = X_train_woe.drop(list_feats_h_corr, axis=1)"
   ]
  },
  {
   "cell_type": "markdown",
   "metadata": {
    "papermill": {
     "duration": null,
     "end_time": null,
     "exception": null,
     "start_time": null,
     "status": "pending"
    },
    "tags": []
   },
   "source": [
    "# 基于VIF消除多重共线性"
   ]
  },
  {
   "cell_type": "code",
   "execution_count": null,
   "metadata": {
    "ExecuteTime": {
     "end_time": "2019-10-25T09:05:34.923846Z",
     "start_time": "2019-10-25T09:05:34.625439Z"
    },
    "papermill": {
     "duration": null,
     "end_time": null,
     "exception": null,
     "start_time": null,
     "status": "pending"
    },
    "tags": []
   },
   "outputs": [],
   "source": [
    "# 默认vif阈值为10\n",
    "# logit_summary(X_train_woe)\n",
    "list_feats_h_vif = feats_vif_proc(X_train_woe, dict_feativ=dict_featIv_woe)\n",
    "list_feats_h_vif\n",
    "X_train_woe = X_train_woe.drop(list_feats_h_vif, axis=1)"
   ]
  },
  {
   "cell_type": "markdown",
   "metadata": {
    "papermill": {
     "duration": null,
     "end_time": null,
     "exception": null,
     "start_time": null,
     "status": "pending"
    },
    "tags": []
   },
   "source": [
    "# 回归系数的显著性检验"
   ]
  },
  {
   "cell_type": "code",
   "execution_count": null,
   "metadata": {
    "ExecuteTime": {
     "end_time": "2019-10-25T09:05:35.037877Z",
     "start_time": "2019-10-25T09:05:34.925673Z"
    },
    "papermill": {
     "duration": null,
     "end_time": null,
     "exception": null,
     "start_time": null,
     "status": "pending"
    },
    "tags": []
   },
   "outputs": [],
   "source": [
    "# 剔除前的的显著性检验\n",
    "logit_summary(X_train_woe)"
   ]
  },
  {
   "cell_type": "code",
   "execution_count": null,
   "metadata": {
    "ExecuteTime": {
     "end_time": "2019-10-25T09:05:35.370801Z",
     "start_time": "2019-10-25T09:05:35.039727Z"
    },
    "papermill": {
     "duration": null,
     "end_time": null,
     "exception": null,
     "start_time": null,
     "status": "pending"
    },
    "tags": []
   },
   "outputs": [],
   "source": [
    "# 显著因子默认为5%\n",
    "list_feats_h_pval = feats_pvalue_proc(X_woe=X_train_woe, targetname='y')\n",
    "list_feats_h_pval\n",
    "X_train_woe = X_train_woe.drop(list_feats_h_pval, axis=1)"
   ]
  },
  {
   "cell_type": "code",
   "execution_count": null,
   "metadata": {
    "ExecuteTime": {
     "end_time": "2019-10-25T09:05:35.469305Z",
     "start_time": "2019-10-25T09:05:35.372578Z"
    },
    "papermill": {
     "duration": null,
     "end_time": null,
     "exception": null,
     "start_time": null,
     "status": "pending"
    },
    "tags": []
   },
   "outputs": [],
   "source": [
    "# 检查最终的显著性\n",
    "logit_summary(X_train_woe)"
   ]
  },
  {
   "cell_type": "markdown",
   "metadata": {
    "papermill": {
     "duration": null,
     "end_time": null,
     "exception": null,
     "start_time": null,
     "status": "pending"
    },
    "tags": []
   },
   "source": [
    "# 基于sklearn进行逻辑回归建模"
   ]
  },
  {
   "cell_type": "markdown",
   "metadata": {
    "papermill": {
     "duration": null,
     "end_time": null,
     "exception": null,
     "start_time": null,
     "status": "pending"
    },
    "tags": []
   },
   "source": [
    "## 建模"
   ]
  },
  {
   "cell_type": "code",
   "execution_count": null,
   "metadata": {
    "ExecuteTime": {
     "end_time": "2019-10-25T09:05:36.839553Z",
     "start_time": "2019-10-25T09:05:35.471266Z"
    },
    "papermill": {
     "duration": null,
     "end_time": null,
     "exception": null,
     "start_time": null,
     "status": "pending"
    },
    "tags": []
   },
   "outputs": [],
   "source": [
    "# 个人习惯更倾向于用sklearn进行建模\n",
    "lr = LogisticRegression()\n",
    "grid_param = {'penalty': ['l1', 'l2'],\n",
    "              'C': [0.1, 0.3, 0.5, 1]}\n",
    "lr = GridSearchCV(estimator=lr, param_grid=grid_param)\n",
    "# 目标变量\n",
    "targetname = 'y'\n",
    "# 准备数据\n",
    "X_woe = X_train_woe.drop(targetname, axis=1)\n",
    "y_woe = X_train_woe[targetname]\n",
    "# 拟合\n",
    "lr.fit(X_woe, y_woe)"
   ]
  },
  {
   "cell_type": "markdown",
   "metadata": {
    "papermill": {
     "duration": null,
     "end_time": null,
     "exception": null,
     "start_time": null,
     "status": "pending"
    },
    "tags": []
   },
   "source": [
    "## 基于模型进行预测类别、概率、分数"
   ]
  },
  {
   "cell_type": "code",
   "execution_count": null,
   "metadata": {
    "ExecuteTime": {
     "end_time": "2019-10-25T09:05:37.054197Z",
     "start_time": "2019-10-25T09:05:36.841412Z"
    },
    "papermill": {
     "duration": null,
     "end_time": null,
     "exception": null,
     "start_time": null,
     "status": "pending"
    },
    "tags": []
   },
   "outputs": [],
   "source": [
    "# 预测\n",
    "X_train_woe[targetname + '_pred'] = lr.predict(X_woe)\n",
    "# 预测概率\n",
    "X_train_woe[targetname + '_proba'] = [i[1] for i in lr.predict_proba(X_woe)]\n",
    "# 默认基础分base_score=500\n",
    "# 默认odd翻倍增加分数 pdo=20\n",
    "X_train_woe['score'] = X_train_woe[targetname + '_proba'].apply(lambda x: proba_to_score(x))"
   ]
  },
  {
   "cell_type": "markdown",
   "metadata": {
    "papermill": {
     "duration": null,
     "end_time": null,
     "exception": null,
     "start_time": null,
     "status": "pending"
    },
    "tags": []
   },
   "source": [
    "## 梳理入模特征\n"
   ]
  },
  {
   "cell_type": "code",
   "execution_count": null,
   "metadata": {
    "ExecuteTime": {
     "end_time": "2019-10-25T09:05:37.064107Z",
     "start_time": "2019-10-25T09:05:37.055506Z"
    },
    "papermill": {
     "duration": null,
     "end_time": null,
     "exception": null,
     "start_time": null,
     "status": "pending"
    },
    "tags": []
   },
   "outputs": [],
   "source": [
    "list_feats_inmod_woe = list(X_woe.columns)\n",
    "list_feats_inmod = [feat[:len(feat)-4] for feat in list_feats_inmod_woe]\n",
    "list_feats_inmod"
   ]
  },
  {
   "cell_type": "markdown",
   "metadata": {
    "papermill": {
     "duration": null,
     "end_time": null,
     "exception": null,
     "start_time": null,
     "status": "pending"
    },
    "tags": []
   },
   "source": [
    "# score分布与特征字典"
   ]
  },
  {
   "cell_type": "markdown",
   "metadata": {
    "papermill": {
     "duration": null,
     "end_time": null,
     "exception": null,
     "start_time": null,
     "status": "pending"
    },
    "tags": []
   },
   "source": [
    "## score & badrate分布"
   ]
  },
  {
   "cell_type": "code",
   "execution_count": null,
   "metadata": {
    "ExecuteTime": {
     "end_time": "2019-10-25T09:05:38.200779Z",
     "start_time": "2019-10-25T09:05:37.066396Z"
    },
    "papermill": {
     "duration": null,
     "end_time": null,
     "exception": null,
     "start_time": null,
     "status": "pending"
    },
    "tags": []
   },
   "outputs": [],
   "source": [
    "plot_score_badrate(X_train_woe)"
   ]
  },
  {
   "cell_type": "markdown",
   "metadata": {
    "papermill": {
     "duration": null,
     "end_time": null,
     "exception": null,
     "start_time": null,
     "status": "pending"
    },
    "tags": []
   },
   "source": [
    "## 入模特征的badrate分布"
   ]
  },
  {
   "cell_type": "code",
   "execution_count": null,
   "metadata": {
    "ExecuteTime": {
     "end_time": "2019-10-25T09:05:42.608952Z",
     "start_time": "2019-10-25T09:05:38.202886Z"
    },
    "papermill": {
     "duration": null,
     "end_time": null,
     "exception": null,
     "start_time": null,
     "status": "pending"
    },
    "tags": []
   },
   "outputs": [],
   "source": [
    "plot_feat_badrate(X_train, list_feats_inmod, cols_discrete, dict_featToBins)"
   ]
  },
  {
   "cell_type": "markdown",
   "metadata": {
    "papermill": {
     "duration": null,
     "end_time": null,
     "exception": null,
     "start_time": null,
     "status": "pending"
    },
    "tags": []
   },
   "source": [
    "## 整理特征分数组"
   ]
  },
  {
   "cell_type": "code",
   "execution_count": null,
   "metadata": {
    "ExecuteTime": {
     "end_time": "2019-10-25T09:05:45.525512Z",
     "start_time": "2019-10-25T09:05:42.611480Z"
    },
    "papermill": {
     "duration": null,
     "end_time": null,
     "exception": null,
     "start_time": null,
     "status": "pending"
    },
    "tags": []
   },
   "outputs": [],
   "source": [
    "df_feat_group = model_feats_score(X_woe, estimator=lr.best_estimator_,\n",
    "                                  dict_feattoobins=dict_featToBins, \n",
    "                                  dict_featwoe=dict_featWoe)\n",
    "df_feat_group"
   ]
  },
  {
   "cell_type": "markdown",
   "metadata": {
    "papermill": {
     "duration": null,
     "end_time": null,
     "exception": null,
     "start_time": null,
     "status": "pending"
    },
    "tags": []
   },
   "source": [
    "## 对测试集进行预测, 整理未入模的特征取值"
   ]
  },
  {
   "cell_type": "code",
   "execution_count": null,
   "metadata": {
    "ExecuteTime": {
     "end_time": "2019-10-25T09:05:45.829735Z",
     "start_time": "2019-10-25T09:05:45.528277Z"
    },
    "papermill": {
     "duration": null,
     "end_time": null,
     "exception": null,
     "start_time": null,
     "status": "pending"
    },
    "tags": []
   },
   "outputs": [],
   "source": [
    "X_test_woe, dict_inv_featvals = test_trans_pred(X_test, lr.best_estimator_, \n",
    "                                                list_feats_inmod, \n",
    "                                                dict_featToBins, dict_featWoe, cols_discrete)\n",
    "dict_inv_featvals"
   ]
  },
  {
   "cell_type": "markdown",
   "metadata": {
    "papermill": {
     "duration": null,
     "end_time": null,
     "exception": null,
     "start_time": null,
     "status": "pending"
    },
    "tags": []
   },
   "source": [
    "# 模型效果评估"
   ]
  },
  {
   "cell_type": "markdown",
   "metadata": {
    "papermill": {
     "duration": null,
     "end_time": null,
     "exception": null,
     "start_time": null,
     "status": "pending"
    },
    "tags": []
   },
   "source": [
    "## 训练集效果"
   ]
  },
  {
   "cell_type": "markdown",
   "metadata": {
    "papermill": {
     "duration": null,
     "end_time": null,
     "exception": null,
     "start_time": null,
     "status": "pending"
    },
    "tags": []
   },
   "source": [
    "### AUC曲线"
   ]
  },
  {
   "cell_type": "code",
   "execution_count": null,
   "metadata": {
    "ExecuteTime": {
     "end_time": "2019-10-25T09:05:46.122308Z",
     "start_time": "2019-10-25T09:05:45.831662Z"
    },
    "papermill": {
     "duration": null,
     "end_time": null,
     "exception": null,
     "start_time": null,
     "status": "pending"
    },
    "tags": []
   },
   "outputs": [],
   "source": [
    "auc_train = model_roc_auc(X_train_woe)"
   ]
  },
  {
   "cell_type": "markdown",
   "metadata": {
    "papermill": {
     "duration": null,
     "end_time": null,
     "exception": null,
     "start_time": null,
     "status": "pending"
    },
    "tags": []
   },
   "source": [
    "### K-S曲线"
   ]
  },
  {
   "cell_type": "code",
   "execution_count": null,
   "metadata": {
    "ExecuteTime": {
     "end_time": "2019-10-25T09:05:46.573164Z",
     "start_time": "2019-10-25T09:05:46.124259Z"
    },
    "papermill": {
     "duration": null,
     "end_time": null,
     "exception": null,
     "start_time": null,
     "status": "pending"
    },
    "tags": []
   },
   "outputs": [],
   "source": [
    "ks_train = distin_ks(X_train_woe)"
   ]
  },
  {
   "cell_type": "markdown",
   "metadata": {
    "papermill": {
     "duration": null,
     "end_time": null,
     "exception": null,
     "start_time": null,
     "status": "pending"
    },
    "tags": []
   },
   "source": [
    "### Gini"
   ]
  },
  {
   "cell_type": "code",
   "execution_count": null,
   "metadata": {
    "ExecuteTime": {
     "end_time": "2019-10-25T09:05:47.002232Z",
     "start_time": "2019-10-25T09:05:46.575243Z"
    },
    "papermill": {
     "duration": null,
     "end_time": null,
     "exception": null,
     "start_time": null,
     "status": "pending"
    },
    "tags": []
   },
   "outputs": [],
   "source": [
    "distin_gini(X_train_woe)"
   ]
  },
  {
   "cell_type": "markdown",
   "metadata": {
    "papermill": {
     "duration": null,
     "end_time": null,
     "exception": null,
     "start_time": null,
     "status": "pending"
    },
    "tags": []
   },
   "source": [
    "## 测试集效果"
   ]
  },
  {
   "cell_type": "markdown",
   "metadata": {
    "papermill": {
     "duration": null,
     "end_time": null,
     "exception": null,
     "start_time": null,
     "status": "pending"
    },
    "tags": []
   },
   "source": [
    "### AUC曲线"
   ]
  },
  {
   "cell_type": "code",
   "execution_count": null,
   "metadata": {
    "ExecuteTime": {
     "end_time": "2019-10-25T09:05:47.254830Z",
     "start_time": "2019-10-25T09:05:47.004309Z"
    },
    "papermill": {
     "duration": null,
     "end_time": null,
     "exception": null,
     "start_time": null,
     "status": "pending"
    },
    "tags": []
   },
   "outputs": [],
   "source": [
    "auc_test = model_roc_auc(X_test_woe)"
   ]
  },
  {
   "cell_type": "markdown",
   "metadata": {
    "papermill": {
     "duration": null,
     "end_time": null,
     "exception": null,
     "start_time": null,
     "status": "pending"
    },
    "tags": []
   },
   "source": [
    "### K-S曲线"
   ]
  },
  {
   "cell_type": "code",
   "execution_count": null,
   "metadata": {
    "ExecuteTime": {
     "end_time": "2019-10-25T09:05:47.630862Z",
     "start_time": "2019-10-25T09:05:47.258149Z"
    },
    "papermill": {
     "duration": null,
     "end_time": null,
     "exception": null,
     "start_time": null,
     "status": "pending"
    },
    "tags": []
   },
   "outputs": [],
   "source": [
    "ks_test = distin_ks(X_test_woe)"
   ]
  },
  {
   "cell_type": "markdown",
   "metadata": {
    "papermill": {
     "duration": null,
     "end_time": null,
     "exception": null,
     "start_time": null,
     "status": "pending"
    },
    "tags": []
   },
   "source": [
    "### Gini"
   ]
  },
  {
   "cell_type": "code",
   "execution_count": null,
   "metadata": {
    "ExecuteTime": {
     "end_time": "2019-10-25T09:05:47.988282Z",
     "start_time": "2019-10-25T09:05:47.632727Z"
    },
    "papermill": {
     "duration": null,
     "end_time": null,
     "exception": null,
     "start_time": null,
     "status": "pending"
    },
    "tags": []
   },
   "outputs": [],
   "source": [
    "distin_gini(X_test_woe)"
   ]
  },
  {
   "cell_type": "markdown",
   "metadata": {
    "papermill": {
     "duration": null,
     "end_time": null,
     "exception": null,
     "start_time": null,
     "status": "pending"
    },
    "tags": []
   },
   "source": [
    "## 模型的PSI（Train vs Test）"
   ]
  },
  {
   "cell_type": "code",
   "execution_count": null,
   "metadata": {
    "ExecuteTime": {
     "end_time": "2019-10-25T09:05:48.299567Z",
     "start_time": "2019-10-25T09:05:47.990277Z"
    },
    "papermill": {
     "duration": null,
     "end_time": null,
     "exception": null,
     "start_time": null,
     "status": "pending"
    },
    "tags": []
   },
   "outputs": [],
   "source": [
    "psi, df_psi = model_psi(X_train_woe, X_test_woe)\n",
    "psi\n",
    "df_psi"
   ]
  },
  {
   "cell_type": "markdown",
   "metadata": {
    "papermill": {
     "duration": null,
     "end_time": null,
     "exception": null,
     "start_time": null,
     "status": "pending"
    },
    "tags": []
   },
   "source": [
    "## 模型的LIFT曲线"
   ]
  },
  {
   "cell_type": "code",
   "execution_count": null,
   "metadata": {
    "ExecuteTime": {
     "end_time": "2019-10-25T09:05:49.226855Z",
     "start_time": "2019-10-25T09:05:48.302019Z"
    },
    "papermill": {
     "duration": null,
     "end_time": null,
     "exception": null,
     "start_time": null,
     "status": "pending"
    },
    "tags": []
   },
   "outputs": [],
   "source": [
    "plot_model_lift(X_train_woe)"
   ]
  },
  {
   "cell_type": "code",
   "execution_count": null,
   "metadata": {
    "papermill": {
     "duration": null,
     "end_time": null,
     "exception": null,
     "start_time": null,
     "status": "pending"
    },
    "tags": []
   },
   "outputs": [],
   "source": []
  }
 ],
 "metadata": {
  "kernelspec": {
   "display_name": "Python 3",
   "language": "python",
   "name": "python3"
  },
  "language_info": {
   "codemirror_mode": {
    "name": "ipython",
    "version": 3
   },
   "file_extension": ".py",
   "mimetype": "text/x-python",
   "name": "python",
   "nbconvert_exporter": "python",
   "pygments_lexer": "ipython3",
   "version": "3.7.6"
  },
  "papermill": {
   "default_parameters": {},
   "duration": 4.073113,
   "end_time": "2020-11-16T18:29:59.125170",
   "environment_variables": {},
   "exception": true,
   "input_path": "/root/notebook/app/github/MachineLearning/002.Risk Score Card/001.ApplicationScoreCard/ApplicationScoreCard.ipynb",
   "output_path": "/root/notebook/app/github/MachineLearning/002.Risk Score Card/001.ApplicationScoreCard/ApplicationScoreCard.ipynb",
   "parameters": {},
   "start_time": "2020-11-16T18:29:55.052057",
   "version": "2.2.2"
  },
  "toc": {
   "base_numbering": 1,
   "nav_menu": {},
   "number_sections": true,
   "sideBar": true,
   "skip_h1_title": false,
   "title_cell": "Table of Contents",
   "title_sidebar": "Contents",
   "toc_cell": false,
   "toc_position": {
    "height": "calc(100% - 180px)",
    "left": "10px",
    "top": "150px",
    "width": "509px"
   },
   "toc_section_display": true,
   "toc_window_display": true
  },
  "toc-autonumbering": true,
  "varInspector": {
   "cols": {
    "lenName": 16,
    "lenType": 16,
    "lenVar": 40
   },
   "kernels_config": {
    "python": {
     "delete_cmd_postfix": "",
     "delete_cmd_prefix": "del ",
     "library": "var_list.py",
     "varRefreshCmd": "print(var_dic_list())"
    },
    "r": {
     "delete_cmd_postfix": ") ",
     "delete_cmd_prefix": "rm(",
     "library": "var_list.r",
     "varRefreshCmd": "cat(var_dic_list()) "
    }
   },
   "types_to_exclude": [
    "module",
    "function",
    "builtin_function_or_method",
    "instance",
    "_Feature"
   ],
   "window_display": false
  }
 },
 "nbformat": 4,
 "nbformat_minor": 4
}